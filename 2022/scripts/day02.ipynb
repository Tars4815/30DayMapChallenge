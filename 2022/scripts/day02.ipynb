{
 "cells": [
  {
   "cell_type": "markdown",
   "id": "e7436223-cd28-4a96-a052-b8c1cad426bb",
   "metadata": {},
   "source": [
    "# **30 Day Map Challenge 2022**\n",
    "## *Day 2: Lines*\n",
    "The goal for this second task is to create a simple map with highways of a specific city downloaded from OpenStreetMap. Highways are then plotted with their line thickness based on their hierarchical type."
   ]
  },
  {
   "cell_type": "code",
   "execution_count": null,
   "id": "61b2fa7d-d92f-4e78-8dc6-db134e7e8342",
   "metadata": {},
   "outputs": [],
   "source": [
    "# import requested libraries\n",
    "import osmnx as ox\n",
    "import geopandas as gpd\n",
    "import matplotlib.pyplot as plt\n",
    "from matplotlib_scalebar.scalebar import ScaleBar"
   ]
  },
  {
   "cell_type": "code",
   "execution_count": null,
   "id": "92a804c0-382f-4983-906c-36827710aca1",
   "metadata": {},
   "outputs": [],
   "source": [
    "# Selecting the city for the map\n",
    "place_name = \"Milano, Italy\""
   ]
  },
  {
   "cell_type": "code",
   "execution_count": null,
   "id": "3330e0c2-4aeb-4285-a100-280f7b1e7b04",
   "metadata": {},
   "outputs": [],
   "source": [
    "# Geocode the selected city and get its boundary\n",
    "area = ox.geocode_to_gdf(place_name)"
   ]
  },
  {
   "cell_type": "code",
   "execution_count": null,
   "id": "2b5527fe-b860-4e0f-94e7-2550cd230547",
   "metadata": {},
   "outputs": [],
   "source": [
    "# Check the data type\n",
    "area"
   ]
  },
  {
   "cell_type": "code",
   "execution_count": null,
   "id": "d8d3ca90-605e-4a22-bce9-c9676169d153",
   "metadata": {},
   "outputs": [],
   "source": [
    "# Download the road network from OSM and filter by chosen tags\n",
    "filt = '[\"highway\"~\"motorway|trunk|primary|secondary|tertiary|residential\"]'\n",
    "G = ox.graph_from_place(place_name, network_type='drive', custom_filter=filt)"
   ]
  },
  {
   "cell_type": "code",
   "execution_count": null,
   "id": "f1f6138a-522e-49ca-9f8c-f95d775c1ea1",
   "metadata": {},
   "outputs": [],
   "source": [
    "# Converting the network in a geodataframe\n",
    "gdf_nodes, gdf_edges = ox.graph_to_gdfs(\n",
    "        G,\n",
    "        nodes=True, edges=True,\n",
    "        node_geometry=True,\n",
    "        fill_edge_geometry=True)"
   ]
  },
  {
   "cell_type": "code",
   "execution_count": null,
   "id": "ac4cccbc-bbc5-4497-8c0d-d2a4db5f04a3",
   "metadata": {},
   "outputs": [],
   "source": [
    "# Checking data contents\n",
    "gdf_edges.head()"
   ]
  },
  {
   "cell_type": "code",
   "execution_count": null,
   "id": "d49a447a-d79f-4ebf-8fd7-d01cb8c949b2",
   "metadata": {},
   "outputs": [],
   "source": [
    "# Plotting data\n",
    "gdf_edges.plot()"
   ]
  },
  {
   "cell_type": "code",
   "execution_count": null,
   "id": "7c1adaab-a5d0-4aa2-a1ef-bed531e0dacf",
   "metadata": {},
   "outputs": [],
   "source": [
    "# Reprojecting data in the Italian CRS\n",
    "highways = gdf_edges.to_crs(32632)\n",
    "highways.plot()"
   ]
  },
  {
   "cell_type": "code",
   "execution_count": null,
   "id": "ec70a2f6-af76-451e-a794-93931cb2c11f",
   "metadata": {},
   "outputs": [],
   "source": [
    "# Defining a function for reclassifying highways type (to be used later for line thickness plotting)\n",
    "def label_highways (row):\n",
    "   if row['highway'] == 'motorway' :\n",
    "      return 2\n",
    "   if row['highway'] == 'trunk' :\n",
    "      return 1.5\n",
    "   if row['highway'] == 'primary' :\n",
    "      return 1\n",
    "   if row['highway'] == 'secondary' :\n",
    "      return 0.6\n",
    "   if row['highway'] == 'tertiary' :\n",
    "      return 0.4\n",
    "   if row['highway'] == 'residential' :\n",
    "      return 0.2"
   ]
  },
  {
   "cell_type": "code",
   "execution_count": null,
   "id": "80accdfe-508c-40c6-a618-8d9bfa80133a",
   "metadata": {},
   "outputs": [],
   "source": [
    "# Applying the function to the geodataframe\n",
    "highways.apply (lambda row: label_highways(row), axis=1)\n",
    "highways['cat'] = highways.apply (lambda row: label_highways(row), axis=1)\n",
    "highways.head()"
   ]
  },
  {
   "cell_type": "code",
   "execution_count": null,
   "id": "c70c3860-060d-4358-b160-439bce497043",
   "metadata": {},
   "outputs": [],
   "source": [
    "# Getting max and min coord values for the data\n",
    "minx, miny, maxx, maxy = highways.geometry.total_bounds"
   ]
  },
  {
   "cell_type": "code",
   "execution_count": null,
   "id": "d106cc71-5842-478c-a5a1-bf3adaf61cb8",
   "metadata": {},
   "outputs": [],
   "source": [
    "# Setting plot options\n",
    "fig, ax = plt.subplots(figsize=(15, 15), facecolor='black')\n",
    "ax = plt.gca()\n",
    "_ = ax.axis('off')\n",
    "highways.plot(color='white', edgecolor='none', linewidth=highways['cat'], ax=ax)\n",
    "ax.add_artist(ScaleBar(1, box_color='black',color='white', font_properties={'family':'Special Elite', 'size': 'large'}, location='lower right'))\n",
    "ax.annotate('30 Day Map Challenge - Day 2: Lines\\nFederica Gaspari (@fede_gaspari)\\nData: OpenStreetMap contributors\\nTools: Python',font_properties={'family':'Special Elite', 'size': 'large'}, xy=(minx,miny), color='white')\n",
    "plt.title('Find your way in '+ str(place_name) +'!',  fontname=\"Special Elite\", color=\"white\", fontsize=\"25\")\n",
    "#Defining filename and save image\n",
    "filename = \"images/Day022022_Lines.jpg\"\n",
    "fig.savefig(filename)\n",
    "#plt.close(fig)"
   ]
  }
 ],
 "metadata": {
  "kernelspec": {
   "display_name": "Python 3 (ipykernel)",
   "language": "python",
   "name": "python3"
  },
  "language_info": {
   "codemirror_mode": {
    "name": "ipython",
    "version": 3
   },
   "file_extension": ".py",
   "mimetype": "text/x-python",
   "name": "python",
   "nbconvert_exporter": "python",
   "pygments_lexer": "ipython3",
   "version": "3.10.2"
  }
 },
 "nbformat": 4,
 "nbformat_minor": 5
}
