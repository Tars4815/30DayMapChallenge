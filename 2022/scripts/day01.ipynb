{
 "cells": [
  {
   "cell_type": "markdown",
   "id": "1fb5df90-5168-4c20-bdfd-e624e613678e",
   "metadata": {},
   "source": [
    "# **30 Day Map Challenge 2022**\n",
    "## *Day 1: Points*\n",
    "The goal for this first task is to replicate the map created for the same day in 2021 only thorugh Python coding with osmnx, geopandas and matplotlib libraries."
   ]
  },
  {
   "cell_type": "code",
   "execution_count": 1,
   "id": "e3838b45-8e60-4edc-a07b-1930f3e73097",
   "metadata": {},
   "outputs": [],
   "source": [
    "# import requested libraries\n",
    "import osmnx as ox\n",
    "import geopandas as gpd\n",
    "import matplotlib.pyplot as plt\n",
    "from matplotlib_scalebar.scalebar import ScaleBar"
   ]
  },
  {
   "cell_type": "code",
   "execution_count": 2,
   "id": "b9d5255c-a134-44c7-88ce-833fa9ed8269",
   "metadata": {},
   "outputs": [],
   "source": [
    "# Selecting the city for the map\n",
    "place_name = \"Milano, Italy\""
   ]
  },
  {
   "cell_type": "code",
   "execution_count": 3,
   "id": "0f8539fd-05eb-461d-ab9f-6f0997dd937b",
   "metadata": {},
   "outputs": [
    {
     "name": "stderr",
     "output_type": "stream",
     "text": [
      "C:\\Users\\Admin\\.conda\\envs\\python-gis\\lib\\site-packages\\osmnx\\geocoder.py:110: FutureWarning: The frame.append method is deprecated and will be removed from pandas in a future version. Use pandas.concat instead.\n",
      "  gdf = gdf.append(_geocode_query_to_gdf(q, wr, by_osmid))\n"
     ]
    }
   ],
   "source": [
    "# Geocode the selected city and get its boundary\n",
    "area = ox.geocode_to_gdf(place_name)"
   ]
  },
  {
   "cell_type": "code",
   "execution_count": 4,
   "id": "b3d125ce-008e-4794-b05b-ae22b5e413d8",
   "metadata": {},
   "outputs": [
    {
     "data": {
      "text/html": [
       "<div>\n",
       "<style scoped>\n",
       "    .dataframe tbody tr th:only-of-type {\n",
       "        vertical-align: middle;\n",
       "    }\n",
       "\n",
       "    .dataframe tbody tr th {\n",
       "        vertical-align: top;\n",
       "    }\n",
       "\n",
       "    .dataframe thead th {\n",
       "        text-align: right;\n",
       "    }\n",
       "</style>\n",
       "<table border=\"1\" class=\"dataframe\">\n",
       "  <thead>\n",
       "    <tr style=\"text-align: right;\">\n",
       "      <th></th>\n",
       "      <th>geometry</th>\n",
       "      <th>bbox_north</th>\n",
       "      <th>bbox_south</th>\n",
       "      <th>bbox_east</th>\n",
       "      <th>bbox_west</th>\n",
       "      <th>place_id</th>\n",
       "      <th>osm_type</th>\n",
       "      <th>osm_id</th>\n",
       "      <th>lat</th>\n",
       "      <th>lon</th>\n",
       "      <th>display_name</th>\n",
       "      <th>class</th>\n",
       "      <th>type</th>\n",
       "      <th>importance</th>\n",
       "    </tr>\n",
       "  </thead>\n",
       "  <tbody>\n",
       "    <tr>\n",
       "      <th>0</th>\n",
       "      <td>POLYGON ((9.04089 45.44745, 9.04093 45.44727, ...</td>\n",
       "      <td>45.535848</td>\n",
       "      <td>45.386738</td>\n",
       "      <td>9.27811</td>\n",
       "      <td>9.040887</td>\n",
       "      <td>296951013</td>\n",
       "      <td>relation</td>\n",
       "      <td>44915</td>\n",
       "      <td>45.464194</td>\n",
       "      <td>9.189635</td>\n",
       "      <td>Milan, Lombardy, Italy</td>\n",
       "      <td>boundary</td>\n",
       "      <td>administrative</td>\n",
       "      <td>0.849065</td>\n",
       "    </tr>\n",
       "  </tbody>\n",
       "</table>\n",
       "</div>"
      ],
      "text/plain": [
       "                                            geometry  bbox_north  bbox_south  \\\n",
       "0  POLYGON ((9.04089 45.44745, 9.04093 45.44727, ...   45.535848   45.386738   \n",
       "\n",
       "   bbox_east  bbox_west   place_id  osm_type  osm_id        lat       lon  \\\n",
       "0    9.27811   9.040887  296951013  relation   44915  45.464194  9.189635   \n",
       "\n",
       "             display_name     class            type  importance  \n",
       "0  Milan, Lombardy, Italy  boundary  administrative    0.849065  "
      ]
     },
     "execution_count": 4,
     "metadata": {},
     "output_type": "execute_result"
    }
   ],
   "source": [
    "# Check the data type\n",
    "area"
   ]
  },
  {
   "cell_type": "code",
   "execution_count": 5,
   "id": "a1e9ce88-ee8f-46d5-8040-3cf1226408d8",
   "metadata": {},
   "outputs": [
    {
     "name": "stderr",
     "output_type": "stream",
     "text": [
      "C:\\Users\\Admin\\.conda\\envs\\python-gis\\lib\\site-packages\\osmnx\\geocoder.py:110: FutureWarning: The frame.append method is deprecated and will be removed from pandas in a future version. Use pandas.concat instead.\n",
      "  gdf = gdf.append(_geocode_query_to_gdf(q, wr, by_osmid))\n"
     ]
    },
    {
     "data": {
      "text/html": [
       "<div>\n",
       "<style scoped>\n",
       "    .dataframe tbody tr th:only-of-type {\n",
       "        vertical-align: middle;\n",
       "    }\n",
       "\n",
       "    .dataframe tbody tr th {\n",
       "        vertical-align: top;\n",
       "    }\n",
       "\n",
       "    .dataframe thead th {\n",
       "        text-align: right;\n",
       "    }\n",
       "</style>\n",
       "<table border=\"1\" class=\"dataframe\">\n",
       "  <thead>\n",
       "    <tr style=\"text-align: right;\">\n",
       "      <th></th>\n",
       "      <th></th>\n",
       "      <th>highway</th>\n",
       "      <th>geometry</th>\n",
       "      <th>junction</th>\n",
       "      <th>traffic_signals:direction</th>\n",
       "      <th>created_by</th>\n",
       "      <th>traffic_signals</th>\n",
       "      <th>crossing</th>\n",
       "      <th>survey:date</th>\n",
       "      <th>bicycle</th>\n",
       "      <th>fixme</th>\n",
       "      <th>...</th>\n",
       "      <th>image</th>\n",
       "      <th>crossing:island</th>\n",
       "      <th>comment:it</th>\n",
       "      <th>source</th>\n",
       "      <th>button_operated</th>\n",
       "      <th>start_date</th>\n",
       "      <th>foot</th>\n",
       "      <th>obstacle:wheelchair</th>\n",
       "      <th>support</th>\n",
       "      <th>width</th>\n",
       "    </tr>\n",
       "    <tr>\n",
       "      <th>element_type</th>\n",
       "      <th>osmid</th>\n",
       "      <th></th>\n",
       "      <th></th>\n",
       "      <th></th>\n",
       "      <th></th>\n",
       "      <th></th>\n",
       "      <th></th>\n",
       "      <th></th>\n",
       "      <th></th>\n",
       "      <th></th>\n",
       "      <th></th>\n",
       "      <th></th>\n",
       "      <th></th>\n",
       "      <th></th>\n",
       "      <th></th>\n",
       "      <th></th>\n",
       "      <th></th>\n",
       "      <th></th>\n",
       "      <th></th>\n",
       "      <th></th>\n",
       "      <th></th>\n",
       "      <th></th>\n",
       "    </tr>\n",
       "  </thead>\n",
       "  <tbody>\n",
       "    <tr>\n",
       "      <th rowspan=\"5\" valign=\"top\">node</th>\n",
       "      <th>13595397</th>\n",
       "      <td>traffic_signals</td>\n",
       "      <td>POINT (9.13066 45.49952)</td>\n",
       "      <td>NaN</td>\n",
       "      <td>NaN</td>\n",
       "      <td>NaN</td>\n",
       "      <td>NaN</td>\n",
       "      <td>NaN</td>\n",
       "      <td>NaN</td>\n",
       "      <td>NaN</td>\n",
       "      <td>NaN</td>\n",
       "      <td>...</td>\n",
       "      <td>NaN</td>\n",
       "      <td>NaN</td>\n",
       "      <td>NaN</td>\n",
       "      <td>NaN</td>\n",
       "      <td>NaN</td>\n",
       "      <td>NaN</td>\n",
       "      <td>NaN</td>\n",
       "      <td>NaN</td>\n",
       "      <td>NaN</td>\n",
       "      <td>NaN</td>\n",
       "    </tr>\n",
       "    <tr>\n",
       "      <th>13919640</th>\n",
       "      <td>traffic_signals</td>\n",
       "      <td>POINT (9.15375 45.48613)</td>\n",
       "      <td>NaN</td>\n",
       "      <td>NaN</td>\n",
       "      <td>NaN</td>\n",
       "      <td>NaN</td>\n",
       "      <td>NaN</td>\n",
       "      <td>NaN</td>\n",
       "      <td>NaN</td>\n",
       "      <td>NaN</td>\n",
       "      <td>...</td>\n",
       "      <td>NaN</td>\n",
       "      <td>NaN</td>\n",
       "      <td>NaN</td>\n",
       "      <td>NaN</td>\n",
       "      <td>NaN</td>\n",
       "      <td>NaN</td>\n",
       "      <td>NaN</td>\n",
       "      <td>NaN</td>\n",
       "      <td>NaN</td>\n",
       "      <td>NaN</td>\n",
       "    </tr>\n",
       "    <tr>\n",
       "      <th>13919747</th>\n",
       "      <td>traffic_signals</td>\n",
       "      <td>POINT (9.16079 45.48079)</td>\n",
       "      <td>NaN</td>\n",
       "      <td>NaN</td>\n",
       "      <td>NaN</td>\n",
       "      <td>NaN</td>\n",
       "      <td>NaN</td>\n",
       "      <td>NaN</td>\n",
       "      <td>NaN</td>\n",
       "      <td>NaN</td>\n",
       "      <td>...</td>\n",
       "      <td>NaN</td>\n",
       "      <td>NaN</td>\n",
       "      <td>NaN</td>\n",
       "      <td>NaN</td>\n",
       "      <td>NaN</td>\n",
       "      <td>NaN</td>\n",
       "      <td>NaN</td>\n",
       "      <td>NaN</td>\n",
       "      <td>NaN</td>\n",
       "      <td>NaN</td>\n",
       "    </tr>\n",
       "    <tr>\n",
       "      <th>21225803</th>\n",
       "      <td>traffic_signals</td>\n",
       "      <td>POINT (9.19091 45.46063)</td>\n",
       "      <td>NaN</td>\n",
       "      <td>NaN</td>\n",
       "      <td>NaN</td>\n",
       "      <td>NaN</td>\n",
       "      <td>NaN</td>\n",
       "      <td>NaN</td>\n",
       "      <td>NaN</td>\n",
       "      <td>NaN</td>\n",
       "      <td>...</td>\n",
       "      <td>NaN</td>\n",
       "      <td>NaN</td>\n",
       "      <td>NaN</td>\n",
       "      <td>NaN</td>\n",
       "      <td>NaN</td>\n",
       "      <td>NaN</td>\n",
       "      <td>NaN</td>\n",
       "      <td>NaN</td>\n",
       "      <td>NaN</td>\n",
       "      <td>NaN</td>\n",
       "    </tr>\n",
       "    <tr>\n",
       "      <th>21225818</th>\n",
       "      <td>traffic_signals</td>\n",
       "      <td>POINT (9.12798 45.46302)</td>\n",
       "      <td>NaN</td>\n",
       "      <td>NaN</td>\n",
       "      <td>NaN</td>\n",
       "      <td>NaN</td>\n",
       "      <td>NaN</td>\n",
       "      <td>NaN</td>\n",
       "      <td>NaN</td>\n",
       "      <td>NaN</td>\n",
       "      <td>...</td>\n",
       "      <td>NaN</td>\n",
       "      <td>NaN</td>\n",
       "      <td>NaN</td>\n",
       "      <td>NaN</td>\n",
       "      <td>NaN</td>\n",
       "      <td>NaN</td>\n",
       "      <td>NaN</td>\n",
       "      <td>NaN</td>\n",
       "      <td>NaN</td>\n",
       "      <td>NaN</td>\n",
       "    </tr>\n",
       "  </tbody>\n",
       "</table>\n",
       "<p>5 rows × 30 columns</p>\n",
       "</div>"
      ],
      "text/plain": [
       "                               highway                  geometry junction  \\\n",
       "element_type osmid                                                          \n",
       "node         13595397  traffic_signals  POINT (9.13066 45.49952)      NaN   \n",
       "             13919640  traffic_signals  POINT (9.15375 45.48613)      NaN   \n",
       "             13919747  traffic_signals  POINT (9.16079 45.48079)      NaN   \n",
       "             21225803  traffic_signals  POINT (9.19091 45.46063)      NaN   \n",
       "             21225818  traffic_signals  POINT (9.12798 45.46302)      NaN   \n",
       "\n",
       "                      traffic_signals:direction created_by traffic_signals  \\\n",
       "element_type osmid                                                           \n",
       "node         13595397                       NaN        NaN             NaN   \n",
       "             13919640                       NaN        NaN             NaN   \n",
       "             13919747                       NaN        NaN             NaN   \n",
       "             21225803                       NaN        NaN             NaN   \n",
       "             21225818                       NaN        NaN             NaN   \n",
       "\n",
       "                      crossing survey:date bicycle fixme  ... image  \\\n",
       "element_type osmid                                        ...         \n",
       "node         13595397      NaN         NaN     NaN   NaN  ...   NaN   \n",
       "             13919640      NaN         NaN     NaN   NaN  ...   NaN   \n",
       "             13919747      NaN         NaN     NaN   NaN  ...   NaN   \n",
       "             21225803      NaN         NaN     NaN   NaN  ...   NaN   \n",
       "             21225818      NaN         NaN     NaN   NaN  ...   NaN   \n",
       "\n",
       "                      crossing:island comment:it source button_operated  \\\n",
       "element_type osmid                                                        \n",
       "node         13595397             NaN        NaN    NaN             NaN   \n",
       "             13919640             NaN        NaN    NaN             NaN   \n",
       "             13919747             NaN        NaN    NaN             NaN   \n",
       "             21225803             NaN        NaN    NaN             NaN   \n",
       "             21225818             NaN        NaN    NaN             NaN   \n",
       "\n",
       "                      start_date foot obstacle:wheelchair support width  \n",
       "element_type osmid                                                       \n",
       "node         13595397        NaN  NaN                 NaN     NaN   NaN  \n",
       "             13919640        NaN  NaN                 NaN     NaN   NaN  \n",
       "             13919747        NaN  NaN                 NaN     NaN   NaN  \n",
       "             21225803        NaN  NaN                 NaN     NaN   NaN  \n",
       "             21225818        NaN  NaN                 NaN     NaN   NaN  \n",
       "\n",
       "[5 rows x 30 columns]"
      ]
     },
     "execution_count": 5,
     "metadata": {},
     "output_type": "execute_result"
    }
   ],
   "source": [
    "# Defining the values of key-values for the OSM tag associated to traffic lights\n",
    "tags = {'highway': 'traffic_signals'}   \n",
    "# Getting data for the defined tag in the selected city\n",
    "tl = ox.geometries_from_place(place_name, tags)\n",
    "# Checking data\n",
    "tl.head()"
   ]
  },
  {
   "cell_type": "code",
   "execution_count": 6,
   "id": "c1748d14-8843-48da-a728-fc1538f7ff9f",
   "metadata": {},
   "outputs": [
    {
     "name": "stderr",
     "output_type": "stream",
     "text": [
      "C:\\Users\\Admin\\.conda\\envs\\python-gis\\lib\\site-packages\\geopandas\\plotting.py:74: DeprecationWarning: distutils Version classes are deprecated. Use packaging.version instead.\n",
      "  if mpl >= LooseVersion(\"3.4\") or (mpl > LooseVersion(\"3.3.2\") and \"+\" in mpl):\n",
      "C:\\Users\\Admin\\.conda\\envs\\python-gis\\lib\\site-packages\\setuptools\\_distutils\\version.py:351: DeprecationWarning: distutils Version classes are deprecated. Use packaging.version instead.\n",
      "  other = LooseVersion(other)\n"
     ]
    },
    {
     "data": {
      "text/plain": [
       "<AxesSubplot:>"
      ]
     },
     "execution_count": 6,
     "metadata": {},
     "output_type": "execute_result"
    },
    {
     "data": {
      "image/png": "[encoded data removed]",
      "text/plain": [
       "<Figure size 432x288 with 1 Axes>"
      ]
     },
     "metadata": {
      "needs_background": "light"
     },
     "output_type": "display_data"
    }
   ],
   "source": [
    "# Plotting data\n",
    "tl.plot()"
   ]
  },
  {
   "cell_type": "code",
   "execution_count": 7,
   "id": "524c43a7-4cfd-42dc-89d0-0f386202999c",
   "metadata": {},
   "outputs": [
    {
     "name": "stderr",
     "output_type": "stream",
     "text": [
      "C:\\Users\\Admin\\.conda\\envs\\python-gis\\lib\\site-packages\\geopandas\\plotting.py:74: DeprecationWarning: distutils Version classes are deprecated. Use packaging.version instead.\n",
      "  if mpl >= LooseVersion(\"3.4\") or (mpl > LooseVersion(\"3.3.2\") and \"+\" in mpl):\n",
      "C:\\Users\\Admin\\.conda\\envs\\python-gis\\lib\\site-packages\\setuptools\\_distutils\\version.py:351: DeprecationWarning: distutils Version classes are deprecated. Use packaging.version instead.\n",
      "  other = LooseVersion(other)\n"
     ]
    },
    {
     "data": {
      "text/plain": [
       "<AxesSubplot:>"
      ]
     },
     "execution_count": 7,
     "metadata": {},
     "output_type": "execute_result"
    },
    {
     "data": {
      "image/png": "[encoded data removed]",
      "text/plain": [
       "<Figure size 432x288 with 1 Axes>"
      ]
     },
     "metadata": {
      "needs_background": "light"
     },
     "output_type": "display_data"
    }
   ],
   "source": [
    "# Reprojecting data in the Italian CRS\n",
    "tl = tl.to_crs(32632)\n",
    "tl.plot()"
   ]
  },
  {
   "cell_type": "code",
   "execution_count": 8,
   "id": "2454ac2f-57c5-46ed-914b-beaeb0adf793",
   "metadata": {},
   "outputs": [],
   "source": [
    "# Getting max and min coord values for the data\n",
    "minx, miny, maxx, maxy = tl.geometry.total_bounds"
   ]
  },
  {
   "cell_type": "code",
   "execution_count": 9,
   "id": "e7ba4a96-7b8b-4d6d-95d5-6ca54b7537bf",
   "metadata": {},
   "outputs": [
    {
     "name": "stderr",
     "output_type": "stream",
     "text": [
      "C:\\Users\\Admin\\.conda\\envs\\python-gis\\lib\\site-packages\\geopandas\\plotting.py:74: DeprecationWarning: distutils Version classes are deprecated. Use packaging.version instead.\n",
      "  if mpl >= LooseVersion(\"3.4\") or (mpl > LooseVersion(\"3.3.2\") and \"+\" in mpl):\n",
      "C:\\Users\\Admin\\.conda\\envs\\python-gis\\lib\\site-packages\\setuptools\\_distutils\\version.py:351: DeprecationWarning: distutils Version classes are deprecated. Use packaging.version instead.\n",
      "  other = LooseVersion(other)\n"
     ]
    }
   ],
   "source": [
    "# Setting plot options\n",
    "fig, ax = plt.subplots(figsize=(15, 15), facecolor='black')\n",
    "ax = plt.gca()\n",
    "_ = ax.axis('off')\n",
    "tl.plot(color='white', edgecolor='none', ax=ax)\n",
    "ax.add_artist(ScaleBar(1, box_color='black',color='white', font_properties={'family':'Special Elite', 'size': 'large'}, location='lower right'))\n",
    "ax.annotate('30 Day Map Challenge - Day 1: Points\\nFederica Gaspari (@fede_gaspari)\\nData: OpenStreetMap contributors\\nTools: Python',font_properties={'family':'Special Elite', 'size': 'large'}, xy=(minx,miny), color='white')\n",
    "plt.title('Big City Lights in '+ str(place_name),  fontname=\"Special Elite\", color=\"white\", fontsize=\"25\")\n",
    "#Defining filename and save image\n",
    "filename = \"images/Day012022_Points.jpg\"\n",
    "fig.savefig(filename)\n",
    "plt.close(fig)"
   ]
  },
  {
   "cell_type": "code",
   "execution_count": null,
   "id": "5c7886b2-748f-486a-8cfd-dacebc4605b5",
   "metadata": {},
   "outputs": [],
   "source": []
  }
 ],
 "metadata": {
  "kernelspec": {
   "display_name": "Python 3 (ipykernel)",
   "language": "python",
   "name": "python3"
  },
  "language_info": {
   "codemirror_mode": {
    "name": "ipython",
    "version": 3
   },
   "file_extension": ".py",
   "mimetype": "text/x-python",
   "name": "python",
   "nbconvert_exporter": "python",
   "pygments_lexer": "ipython3",
   "version": "3.10.2"
  }
 },
 "nbformat": 4,
 "nbformat_minor": 5
}
