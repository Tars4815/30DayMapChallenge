{
 "cells": [
  {
   "cell_type": "markdown",
   "id": "1fb5df90-5168-4c20-bdfd-e624e613678e",
   "metadata": {},
   "source": [
    "### **30 Day Map Challenge 2022**\n",
    "## *Day 3: Polygons*\n",
    "The goal for this third task is to extract the \"building=yes\" footprint mapped in Milano on OpenStreetMap."
   ]
  },
  {
   "cell_type": "code",
   "execution_count": null,
   "id": "e3838b45-8e60-4edc-a07b-1930f3e73097",
   "metadata": {},
   "outputs": [],
   "source": [
    "# import requested libraries\n",
    "import osmnx as ox\n",
    "import geopandas as gpd\n",
    "import matplotlib.pyplot as plt\n",
    "from matplotlib_scalebar.scalebar import ScaleBar\n",
    "from shapely.geometry import Polygon, MultiPolygon, Point"
   ]
  },
  {
   "cell_type": "code",
   "execution_count": null,
   "id": "b9d5255c-a134-44c7-88ce-833fa9ed8269",
   "metadata": {},
   "outputs": [],
   "source": [
    "# Selecting the city for the map\n",
    "place_name = \"Milano, Italy\""
   ]
  },
  {
   "cell_type": "code",
   "execution_count": null,
   "id": "0f8539fd-05eb-461d-ab9f-6f0997dd937b",
   "metadata": {},
   "outputs": [],
   "source": [
    "# Geocode the selected city and get its boundary\n",
    "area = ox.geocode_to_gdf(place_name)"
   ]
  },
  {
   "cell_type": "code",
   "execution_count": null,
   "id": "b3d125ce-008e-4794-b05b-ae22b5e413d8",
   "metadata": {},
   "outputs": [],
   "source": [
    "# Check the data type\n",
    "area"
   ]
  },
  {
   "cell_type": "code",
   "execution_count": null,
   "id": "a1e9ce88-ee8f-46d5-8040-3cf1226408d8",
   "metadata": {},
   "outputs": [],
   "source": [
    "# Defining the values of key-values for the OSM tag associated to traffic lights\n",
    "tags = {'building': 'yes'}   \n",
    "# Getting data for the defined tag in the selected city\n",
    "buildings = ox.geometries_from_place(place_name, tags)\n",
    "# Checking data\n",
    "buildings.head()"
   ]
  },
  {
   "cell_type": "code",
   "execution_count": null,
   "id": "a8df06c8-4b60-432e-8cd1-76569ec13a9d",
   "metadata": {},
   "outputs": [],
   "source": [
    "b = buildings[buildings.geom_type != 'Point']"
   ]
  },
  {
   "cell_type": "code",
   "execution_count": null,
   "id": "2b0da468-3905-4b71-bc41-03229cd49dc0",
   "metadata": {},
   "outputs": [],
   "source": [
    "b.plot()"
   ]
  },
  {
   "cell_type": "code",
   "execution_count": null,
   "id": "524c43a7-4cfd-42dc-89d0-0f386202999c",
   "metadata": {},
   "outputs": [],
   "source": [
    "# Reprojecting data in the Italian CRS\n",
    "b = b.to_crs(32632)\n",
    "b.plot()"
   ]
  },
  {
   "cell_type": "code",
   "execution_count": null,
   "id": "2454ac2f-57c5-46ed-914b-beaeb0adf793",
   "metadata": {},
   "outputs": [],
   "source": [
    "# Getting max and min coord values for the data\n",
    "minx, miny, maxx, maxy = b.geometry.total_bounds"
   ]
  },
  {
   "cell_type": "code",
   "execution_count": null,
   "id": "e7ba4a96-7b8b-4d6d-95d5-6ca54b7537bf",
   "metadata": {},
   "outputs": [],
   "source": [
    "# Setting plot options\n",
    "fig, ax = plt.subplots(figsize=(15, 15), facecolor='black')\n",
    "ax = plt.gca()\n",
    "_ = ax.axis('off')\n",
    "b.plot(color='white', edgecolor='none', ax=ax)\n",
    "ax.add_artist(ScaleBar(1, box_color='black',color='white', font_properties={'family':'Special Elite', 'size': 'large'}, location='lower right'))\n",
    "ax.annotate('30 Day Map Challenge - Day 3: Polygons\\nFederica Gaspari (@fede_gaspari)\\nData: OpenStreetMap contributors\\nTools: Python',font_properties={'family':'Special Elite', 'size': 'large'}, xy=(minx,miny), color='white')\n",
    "plt.title('Building constellation in ' + str(place_name),  fontname=\"Special Elite\", color=\"white\", fontsize=\"25\")\n",
    "#Defining filename and save image\n",
    "filename = \"Day032022_Polygons.jpg\"\n",
    "fig.savefig(filename)\n",
    "#plt.close(fig)"
   ]
  },
  {
   "cell_type": "code",
   "execution_count": null,
   "id": "5c7886b2-748f-486a-8cfd-dacebc4605b5",
   "metadata": {},
   "outputs": [],
   "source": []
  }
 ],
 "metadata": {
  "kernelspec": {
   "display_name": "Python 3 (ipykernel)",
   "language": "python",
   "name": "python3"
  },
  "language_info": {
   "codemirror_mode": {
    "name": "ipython",
    "version": 3
   },
   "file_extension": ".py",
   "mimetype": "text/x-python",
   "name": "python",
   "nbconvert_exporter": "python",
   "pygments_lexer": "ipython3",
   "version": "3.10.2"
  }
 },
 "nbformat": 4,
 "nbformat_minor": 5
}
